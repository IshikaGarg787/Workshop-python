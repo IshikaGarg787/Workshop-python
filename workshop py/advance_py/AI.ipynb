{
 "cells": [
  {
   "cell_type": "code",
   "execution_count": null,
   "id": "564dde56",
   "metadata": {},
   "outputs": [],
   "source": [
    "# for model-----\n",
    "\n",
    "# accuracy : how much your model is correct\n",
    "# precision : \n",
    "# confusion metrices : evaluate the model\n",
    "# recoll :\n",
    "# f1 score :"
   ]
  },
  {
   "cell_type": "code",
   "execution_count": null,
   "id": "39bd58ae",
   "metadata": {},
   "outputs": [],
   "source": [
    "# feature engineering---\n",
    "\n",
    "# hyper parameter---"
   ]
  },
  {
   "cell_type": "code",
   "execution_count": null,
   "id": "7ce65635",
   "metadata": {},
   "outputs": [],
   "source": [
    "#matplotlib : mapping purpose\n",
    "#pandas : data manipulation\n",
    "#seaborn : updated mapping purpose\n"
   ]
  },
  {
   "cell_type": "code",
   "execution_count": null,
   "id": "75c2a783",
   "metadata": {},
   "outputs": [],
   "source": [
    "import pandas as pd\n",
    "import numpy as np\n",
    "import matplotlib.pyplot as plt\n",
    "import seaborn as sns"
   ]
  },
  {
   "cell_type": "code",
   "execution_count": null,
   "id": "4cb8d8cf",
   "metadata": {},
   "outputs": [],
   "source": [
    "# chatbot (run it only on google colab)\n",
    "\n",
    "from transformers import pipeline\n",
    "generator = pipeline(\"text-generation\", model=\"distilgpt2\")\n",
    "word = input(\"-[\")\n",
    "res = generator(word, max_length=30,num_return_sequences=2)\n",
    "print(res)"
   ]
  },
  {
   "cell_type": "code",
   "execution_count": null,
   "id": "94d4a208",
   "metadata": {},
   "outputs": [],
   "source": [
    "# analysis \n",
    "\n",
    "from transformers import pipeline\n",
    "classifier = pipeline(\"sentiment-analysis\")\n",
    "word = input(\"-[\")\n",
    "res = classifier(word)\n",
    "print(res)"
   ]
  },
  {
   "cell_type": "code",
   "execution_count": null,
   "id": "cfe6c8ac",
   "metadata": {},
   "outputs": [],
   "source": [
    "# NLP (key components):\n",
    "\n",
    "# 1. tokenization\n",
    "# 2. Name Entity Recognition\n",
    "# 3. Sentiment Analysis\n",
    "# 4. text generation"
   ]
  }
 ],
 "metadata": {
  "language_info": {
   "name": "python"
  }
 },
 "nbformat": 4,
 "nbformat_minor": 5
}
