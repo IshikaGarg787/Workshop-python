{
 "cells": [
  {
   "cell_type": "code",
   "execution_count": null,
   "id": "97dc6467",
   "metadata": {},
   "outputs": [
    {
     "ename": "ConnectionRefusedError",
     "evalue": "[WinError 10061] No connection could be made because the target machine actively refused it",
     "output_type": "error",
     "traceback": [
      "\u001b[1;31m---------------------------------------------------------------------------\u001b[0m",
      "\u001b[1;31mConnectionRefusedError\u001b[0m                    Traceback (most recent call last)",
      "Cell \u001b[1;32mIn[1], line 5\u001b[0m\n\u001b[0;32m      3\u001b[0m port \u001b[38;5;241m=\u001b[39m \u001b[38;5;241m2025\u001b[39m\n\u001b[0;32m      4\u001b[0m obj \u001b[38;5;241m=\u001b[39m socket\u001b[38;5;241m.\u001b[39msocket()\n\u001b[1;32m----> 5\u001b[0m \u001b[43mobj\u001b[49m\u001b[38;5;241;43m.\u001b[39;49m\u001b[43mconnect\u001b[49m\u001b[43m(\u001b[49m\u001b[43m(\u001b[49m\u001b[43mhost\u001b[49m\u001b[43m,\u001b[49m\u001b[43mport\u001b[49m\u001b[43m)\u001b[49m\u001b[43m)\u001b[49m\n\u001b[0;32m      6\u001b[0m message \u001b[38;5;241m=\u001b[39m \u001b[38;5;28minput\u001b[39m(\u001b[38;5;124m\"\u001b[39m\u001b[38;5;124mtype message: \u001b[39m\u001b[38;5;124m\"\u001b[39m)\n\u001b[0;32m      7\u001b[0m \u001b[38;5;28;01mwhile\u001b[39;00m message \u001b[38;5;241m!=\u001b[39m \u001b[38;5;124m'\u001b[39m\u001b[38;5;124mq\u001b[39m\u001b[38;5;124m'\u001b[39m:\n",
      "\u001b[1;31mConnectionRefusedError\u001b[0m: [WinError 10061] No connection could be made because the target machine actively refused it"
     ]
    }
   ],
   "source": [
    "#client side\n",
    "import socket\n",
    "host = '127.0.0.1'\n",
    "port = 2025\n",
    "obj = socket.socket()\n",
    "obj.connect((host,port))\n",
    "message = input(\"type message: \")\n",
    "while message != 'q':\n",
    "    obj.send(message.encode())\n",
    "    data = obj.recv(1024).decode()\n",
    "    print('Received from server:' + data)\n",
    "    message = input(\"type message: \")\n",
    "obj.close()    "
   ]
  },
  {
   "cell_type": "code",
   "execution_count": null,
   "id": "462301a1",
   "metadata": {},
   "outputs": [],
   "source": [
    "#server side\n",
    "import socket\n",
    "host = \"127.0.0.1\"\n",
    "port = 2025\n",
    "server = socket.socket()\n",
    "server.bind((host,port))\n",
    "server.listen()\n",
    "conn,addr = server.accept()\n",
    "print(\"Connection from: \" + str(addr))\n",
    "while True:\n",
    "      data = conn.recv(1024).decode()\n",
    "      if not data:\n",
    "         break\n",
    "      data = str(data).upper()\n",
    "      print(\" from client: \" + str(data))\n",
    "      data = input(\"type message: \")\n",
    "      conn.send(data.encode())\n",
    "conn.close()"
   ]
  },
  {
   "cell_type": "code",
   "execution_count": null,
   "id": "fc81b081",
   "metadata": {},
   "outputs": [],
   "source": [
    "# wireshark\n",
    "# avast\n",
    "# aunetix\n",
    "# rot13\n",
    "# sha1(cryptography mainly)\n",
    "# cyberchef - conversions"
   ]
  },
  {
   "cell_type": "code",
   "execution_count": null,
   "id": "94522378",
   "metadata": {},
   "outputs": [],
   "source": [
    "# ISP (Internet Service Provider)\n",
    "\n",
    "# ARPANET(Global ISP) = advance research project agency network"
   ]
  },
  {
   "cell_type": "code",
   "execution_count": null,
   "id": "ffff6bf5",
   "metadata": {},
   "outputs": [],
   "source": [
    "# Core Functionalities\n",
    "\n",
    "# IP address\n",
    "    # IPv4 - 192.168.1.5\n",
    "    # IPv6 - 1a2b3c4d5e6f7890\n",
    "# Protocols = set of rules\n",
    "    # valid certificate\n",
    "# Ports = entry or exit\n",
    "# Packets = data is carried in form of packets"
   ]
  },
  {
   "cell_type": "code",
   "execution_count": null,
   "id": "e3b9bec2",
   "metadata": {},
   "outputs": [],
   "source": [
    "# Application protocol --------\n",
    "\n",
    "# HTTP = 80\n",
    "# HTTPS = 443\n",
    "# FTP = 20/21\n",
    "# SMTP = 25\n",
    "# SSH = 22\n",
    "# MySQL = 3306\n",
    "# Java = 8080"
   ]
  },
  {
   "cell_type": "code",
   "execution_count": null,
   "id": "6fe3ef1e",
   "metadata": {},
   "outputs": [],
   "source": [
    "# 127.0.0.1 = reserved or loop back IP Address"
   ]
  },
  {
   "cell_type": "code",
   "execution_count": null,
   "id": "1141e723",
   "metadata": {},
   "outputs": [],
   "source": [
    "# Cryptanalysis= study of breaking or cracking the password.\n",
    "# Hashing = digest the word and gives you hash."
   ]
  },
  {
   "cell_type": "code",
   "execution_count": 1,
   "id": "0aff3d98",
   "metadata": {},
   "outputs": [
    {
     "name": "stdout",
     "output_type": "stream",
     "text": [
      "progamin\n"
     ]
    }
   ],
   "source": [
    "s = \"programming\"\n",
    "unique_chars = \"\".join(dict.fromkeys(s))\n",
    "print(unique_chars)  # Output: \"progamin\""
   ]
  }
 ],
 "metadata": {
  "kernelspec": {
   "display_name": "Python 3",
   "language": "python",
   "name": "python3"
  },
  "language_info": {
   "codemirror_mode": {
    "name": "ipython",
    "version": 3
   },
   "file_extension": ".py",
   "mimetype": "text/x-python",
   "name": "python",
   "nbconvert_exporter": "python",
   "pygments_lexer": "ipython3",
   "version": "3.12.6"
  }
 },
 "nbformat": 4,
 "nbformat_minor": 5
}
