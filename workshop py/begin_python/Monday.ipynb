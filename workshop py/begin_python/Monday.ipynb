{
 "cells": [
  {
   "cell_type": "code",
   "execution_count": 3,
   "metadata": {},
   "outputs": [
    {
     "name": "stdout",
     "output_type": "stream",
     "text": [
      "Hello Sir\n",
      "Thankyou for the interactive workshop\n",
      "25\n"
     ]
    }
   ],
   "source": [
    "print('Hello Sir\\nThankyou for the interactive workshop')\n",
    "first_number=10\n",
    "second_number=15\n",
    "c=first_number+second_number\n",
    "print(c)"
   ]
  },
  {
   "cell_type": "code",
   "execution_count": 4,
   "metadata": {},
   "outputs": [
    {
     "name": "stdout",
     "output_type": "stream",
     "text": [
      "12\n",
      "8\n",
      "20\n",
      "5.0\n"
     ]
    }
   ],
   "source": [
    "first_number=int(input('Enter first number='))\n",
    "second_number=int(input('Enter second number='))\n",
    "addition = first_number + second_number\n",
    "subtraction = first_number - second_number\n",
    "multiplication = first_number * second_number\n",
    "division = first_number / second_number\n",
    "print(addition)\n",
    "print(subtraction)\n",
    "print(multiplication)\n",
    "print(division)"
   ]
  },
  {
   "cell_type": "code",
   "execution_count": null,
   "metadata": {},
   "outputs": [],
   "source": [
    "# Rules for naming Variables\n",
    "#cases--Camel case, Pascal case, Snake case\n",
    "number_of_codes=10 #Snake case\n",
    "NumberOfCodes=10 #Pascal Case\n",
    "numberOfCodes=10 #Camel case"
   ]
  },
  {
   "cell_type": "code",
   "execution_count": 2,
   "metadata": {},
   "outputs": [
    {
     "name": "stdout",
     "output_type": "stream",
     "text": [
      "greater\n"
     ]
    }
   ],
   "source": [
    "number=int(input('Enter the number='))\n",
    "if number>50:\n",
    "    print(\"greater\")\n",
    "else:\n",
    "    print(\"smaller\")    "
   ]
  },
  {
   "cell_type": "code",
   "execution_count": null,
   "metadata": {},
   "outputs": [],
   "source": [
    "#variables\n",
    "\n",
    "#1. Global variables : applicable in whole code.\n",
    "#2. Local variables : applicable inside the class or function only.\n",
    "#3. Block Scope : inside the curly braces."
   ]
  },
  {
   "cell_type": "code",
   "execution_count": null,
   "metadata": {},
   "outputs": [],
   "source": [
    "#dynamically typed language , why?\n",
    "\n",
    "#Reason : in python, we don't need to define which type of value a variable is holding.\n",
    "# Example : if we write a=10, then it will understand that it is an integer and we will \n",
    "# get no error.\n"
   ]
  },
  {
   "cell_type": "code",
   "execution_count": null,
   "metadata": {},
   "outputs": [],
   "source": [
    "# Rules to define variable name:\n",
    "\n",
    "# Incorrect   -   Correct : \n",
    "\n",
    "# 1. num 1    -   num_1\n",
    "# 2. 3number  -   number3\n",
    "# 3. 8 first  -   first_8\n",
    "# 4. -name    -    _name\n",
    "# 5. first*var-   first_var"
   ]
  },
  {
   "cell_type": "code",
   "execution_count": 15,
   "metadata": {},
   "outputs": [
    {
     "name": "stdout",
     "output_type": "stream",
     "text": [
      "Area of circle is = 3629.84\n",
      "Circumference of circle is = 213.52\n",
      "Volume of Cylinder is = 243199.28\n"
     ]
    }
   ],
   "source": [
    "radius=float(input('Enter the radius:'))\n",
    "height=float(input('Enter the height of cylinder'))\n",
    "\n",
    "PI=3.14\n",
    "\n",
    "area_of_circle = PI * (radius ** 2)\n",
    "circumference_of_circle = 2 * PI * radius\n",
    "volume_of_cylinder = PI * (radius ** 2) * height\n",
    "\n",
    "print(f\"Area of circle is = {area_of_circle}\")\n",
    "print(f\"Circumference of circle is = {circumference_of_circle}\")\n",
    "print(f\"Volume of Cylinder is = {volume_of_cylinder}\")\n"
   ]
  },
  {
   "cell_type": "code",
   "execution_count": 17,
   "metadata": {},
   "outputs": [
    {
     "name": "stdout",
     "output_type": "stream",
     "text": [
      "Hi I'm Iron Man\n",
      "Hi\n",
      " I'm Iron Man\n",
      "Hi \t I'm Iron Man\n"
     ]
    }
   ],
   "source": [
    "str2='Hi I\\'m Iron Man'\n",
    "print(str2)\n",
    "str2='Hi\\n I\\'m Iron Man'\n",
    "print(str2)\n",
    "str2='Hi \\t I\\'m Iron Man'\n",
    "print(str2)"
   ]
  },
  {
   "cell_type": "code",
   "execution_count": null,
   "metadata": {},
   "outputs": [
    {
     "name": "stdout",
     "output_type": "stream",
     "text": [
      "s\n",
      "yhnRc\n",
      "Pytho\n",
      "\n"
     ]
    }
   ],
   "source": [
    "#Indexing(start,stop,steps)\n",
    "\n",
    "str1=\"Python Rocks\"\n",
    "print(str1[-1])\n",
    "print(str1[1:10:2])\n",
    "print(str1[-12:-7])\n",
    "\n",
    "#starting has to be minimum and always stop has to be maximum.\n",
    "# [5:1] is wrong as starting is greater than ending.."
   ]
  },
  {
   "cell_type": "code",
   "execution_count": null,
   "metadata": {},
   "outputs": [
    {
     "name": "stdout",
     "output_type": "stream",
     "text": [
      "23456Today Is Monday\n",
      "23456today is monday\n"
     ]
    }
   ],
   "source": [
    "str1=\"23456toDAY iS Monday\"\n",
    "print(str1.title())          \n",
    "print(str2.capitalize())\n"
   ]
  },
  {
   "cell_type": "code",
   "execution_count": null,
   "metadata": {},
   "outputs": [
    {
     "name": "stdout",
     "output_type": "stream",
     "text": [
      "McDonald \n"
     ]
    }
   ],
   "source": [
    "str1=\"mcdonald\"\n",
    "str2=str1[0:2]\n",
    "str3=str1[2:]\n",
    "print(f\"{str2.capitalize()}{str3.capitalize()}\")"
   ]
  }
 ],
 "metadata": {
  "kernelspec": {
   "display_name": "Python 3",
   "language": "python",
   "name": "python3"
  },
  "language_info": {
   "codemirror_mode": {
    "name": "ipython",
    "version": 3
   },
   "file_extension": ".py",
   "mimetype": "text/x-python",
   "name": "python",
   "nbconvert_exporter": "python",
   "pygments_lexer": "ipython3",
   "version": "3.12.6"
  }
 },
 "nbformat": 4,
 "nbformat_minor": 2
}
