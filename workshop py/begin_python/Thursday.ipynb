{
 "cells": [
  {
   "cell_type": "code",
   "execution_count": null,
   "metadata": {},
   "outputs": [],
   "source": [
    "# Class : blueprint of object.\n",
    "# attributes - 17\" , RTX3050,I9\n",
    "# methods - watch, parellel processing , computation\n"
   ]
  },
  {
   "cell_type": "code",
   "execution_count": 4,
   "metadata": {},
   "outputs": [
    {
     "name": "stdout",
     "output_type": "stream",
     "text": [
      "15\n",
      "17\n",
      "My laptop is hp\n"
     ]
    }
   ],
   "source": [
    "#class Classname():\n",
    "#class variables|instance variables\n",
    "class Monitor():\n",
    "    def __init__(self,screen,gpu):  # self is a keyword not a variable.\n",
    "        self.screen=screen        # attributes are nothing but arguments\n",
    "        self.gpu=gpu\n",
    "        print(screen)\n",
    "    def laptop_property(self):    # methods is nothing but functions-laptop_property()\n",
    "        print('My laptop is hp')    # methods are inside the class only if outside they are only functions not methods.\n",
    "laptop_prop1=Monitor(15,30)       \n",
    "laptop_prop2=Monitor(17,19)  \n",
    "laptop_prop1.laptop_property()"
   ]
  },
  {
   "cell_type": "code",
   "execution_count": 20,
   "metadata": {},
   "outputs": [
    {
     "name": "stdout",
     "output_type": "stream",
     "text": [
      "A\n",
      "23\n",
      "GLA University\n",
      "B\n",
      "44\n",
      "GLA University\n",
      "sum\n"
     ]
    }
   ],
   "source": [
    "def add():\n",
    "    print('sum')\n",
    "class student():\n",
    "    def __init__(self,section,roll_no):    #__init__ is a instance variable  \n",
    "        self.section =section              #it is used to define a variable globally\n",
    "        self.roll_no =roll_no\n",
    "        print(section)\n",
    "        print(roll_no)\n",
    "    def college(self):\n",
    "        print('GLA University') \n",
    "student1=student('A',23) \n",
    "student1.college()\n",
    "student2=student('B',44)\n",
    "student2.college()\n",
    "add()          "
   ]
  },
  {
   "cell_type": "code",
   "execution_count": 22,
   "metadata": {},
   "outputs": [
    {
     "name": "stdout",
     "output_type": "stream",
     "text": [
      "student name : Ishika\n",
      "roll no : 33\n",
      "physics : 40\n",
      "maths : 34\n",
      "web : 32\n",
      "python : 40\n",
      "english : 39\n",
      "average marks : 37.0\n",
      "total marks : 185\n"
     ]
    }
   ],
   "source": [
    "class Info():\n",
    "    def __init__(self, student_name,roll_no,physics,maths,web,python,english):\n",
    "        self.student_name=student_name\n",
    "        self.roll_no=roll_no\n",
    "        self.physics=physics\n",
    "        self.maths=maths\n",
    "        self.web=web\n",
    "        self.python=python\n",
    "        self.english=english\n",
    "        print(f'student name : {student_name}')\n",
    "        print(f'roll no : {roll_no}')\n",
    "        print(f'physics : {physics}')\n",
    "        print(f'maths : {maths}')\n",
    "        print(f'web : {web}')\n",
    "        print(f'python : {python}')\n",
    "        print(f'english : {english}')\n",
    "    def student(self):\n",
    "        avg=(self.physics+self.maths+self.web+self.python+self.english)/5\n",
    "        print(f'average marks : {avg}')\n",
    "        total=self.physics+self.maths+self.web+self.python+self.english\n",
    "        print(f'total marks : {total}')\n",
    "\n",
    "student1=Info('Ishika',33,40,34,32,40,39)\n",
    "student1.student()      \n"
   ]
  },
  {
   "cell_type": "code",
   "execution_count": null,
   "metadata": {},
   "outputs": [],
   "source": [
    "# functions are actions and the task the blueprint is going to perform.\n",
    "# class is a blueprint of combination of functions and methods.\n",
    "# properties are characteristics or qualities of that blueprint."
   ]
  },
  {
   "cell_type": "code",
   "execution_count": null,
   "metadata": {},
   "outputs": [],
   "source": [
    "# inheritance : \n",
    "# when you borrow some variables or elements from another class.\n",
    "# Single \n",
    "# Multiple\n",
    "# Multilevel"
   ]
  },
  {
   "cell_type": "code",
   "execution_count": 6,
   "metadata": {},
   "outputs": [
    {
     "name": "stdout",
     "output_type": "stream",
     "text": [
      "man can code\n",
      "Humans can walk\n"
     ]
    }
   ],
   "source": [
    "# Single Inheritance\n",
    "class Human:\n",
    "    def walk(self):\n",
    "        print('Humans can walk')\n",
    "class Man(Human):\n",
    "    def cook(self):\n",
    "        print('man can code')\n",
    "obj=Man()\n",
    "obj.cook()\n",
    "obj.walk()\n",
    "              "
   ]
  },
  {
   "cell_type": "code",
   "execution_count": 13,
   "metadata": {},
   "outputs": [
    {
     "name": "stdout",
     "output_type": "stream",
     "text": [
      "Parents are working\n",
      "Teacher is teaching\n",
      "student is studying\n",
      "They are future\n"
     ]
    }
   ],
   "source": [
    "# Multiple Inheritance\n",
    "class student:\n",
    "    def study(self):\n",
    "        print('student is studying') \n",
    "    def adult(self):\n",
    "        print('They are future')    \n",
    "class Teacher:\n",
    "    def teach(self):\n",
    "        print('Teacher is teaching') \n",
    "    def adult(self):\n",
    "        print('They build us')    \n",
    "class Parents(student,Teacher):\n",
    "    def care(self):\n",
    "        print('Parents are working')\n",
    "obj=Parents()\n",
    "obj.care()\n",
    "obj.teach()\n",
    "obj.study() \n",
    "obj.adult()                      "
   ]
  },
  {
   "cell_type": "code",
   "execution_count": 16,
   "metadata": {},
   "outputs": [
    {
     "name": "stdout",
     "output_type": "stream",
     "text": [
      "Parents are working\n",
      "student is studying\n",
      "They are future\n",
      "Parents are working\n",
      "Teacher is teaching\n"
     ]
    },
    {
     "data": {
      "text/plain": [
       "[__main__.Parents, __main__.Student, object]"
      ]
     },
     "execution_count": 16,
     "metadata": {},
     "output_type": "execute_result"
    }
   ],
   "source": [
    "# Multilevel Inheritance\n",
    "class Student():\n",
    "    def study(self):\n",
    "        print('student is studying') \n",
    "    def adult(self):\n",
    "        print('They are future')    \n",
    "class Teacher(Parents):\n",
    "    def teach(self):\n",
    "        print('Teacher is teaching') \n",
    "    def adult(self):\n",
    "        print('They build us')    \n",
    "class Parents(Student):\n",
    "    def care(self):\n",
    "        print('Parents are working')\n",
    "obj=Parents()\n",
    "obj.care()\n",
    "obj.study() \n",
    "obj.adult() \n",
    "obj2=Teacher()\n",
    "obj2.care()\n",
    "obj2.teach()\n",
    "Parents.mro()\n"
   ]
  },
  {
   "cell_type": "code",
   "execution_count": null,
   "metadata": {},
   "outputs": [],
   "source": []
  }
 ],
 "metadata": {
  "kernelspec": {
   "display_name": "Python 3",
   "language": "python",
   "name": "python3"
  },
  "language_info": {
   "codemirror_mode": {
    "name": "ipython",
    "version": 3
   },
   "file_extension": ".py",
   "mimetype": "text/x-python",
   "name": "python",
   "nbconvert_exporter": "python",
   "pygments_lexer": "ipython3",
   "version": "3.12.6"
  }
 },
 "nbformat": 4,
 "nbformat_minor": 2
}
