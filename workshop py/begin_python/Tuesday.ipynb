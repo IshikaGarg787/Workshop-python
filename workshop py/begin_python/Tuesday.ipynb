{
 "cells": [
  {
   "cell_type": "code",
   "execution_count": 2,
   "metadata": {},
   "outputs": [
    {
     "name": "stdout",
     "output_type": "stream",
     "text": [
      "['ishika', 'harshita', 'kratika', 'tanya', 'vanshika']\n",
      "ishika\n",
      "harshita\n",
      "kratika\n",
      "tanya\n",
      "vanshika\n"
     ]
    }
   ],
   "source": [
    "list1=['ishika','harshita','kratika','tanya','vanshika']\n",
    "print(list1)\n",
    "print(list1[0])\n",
    "print(list1[1])\n",
    "print(list1[2])\n",
    "print(list1[3])\n",
    "print(list1[4])\n"
   ]
  },
  {
   "cell_type": "code",
   "execution_count": null,
   "metadata": {},
   "outputs": [
    {
     "name": "stdout",
     "output_type": "stream",
     "text": [
      "ishika with reg_no 2415800038 scored average of 13.6\n",
      "harshita with reg_no 2415800037 scored average of 13.8\n"
     ]
    }
   ],
   "source": [
    "student_names=['ishika','harshita']\n",
    "Reg_no=['2415800038','2415800037']\n",
    "design=[14,15]\n",
    "maths=[13,13]\n",
    "python=[15,15]\n",
    "web=[12,13]\n",
    "physics=[14,13]\n",
    "\n",
    "student_names1=(maths[0]+design[0]+python[0]+web[0]+physics[0])/5\n",
    "student_names2=(maths[1]+design[1]+python[1]+web[1]+physics[1])/5\n",
    "print(f'{student_names[0]} with reg_no {Reg_no[0]} scored average of {student_names1}')\n",
    "print(f'{student_names[1]} with reg_no {Reg_no[1]} scored average of {student_names2}')\n",
    "\n"
   ]
  },
  {
   "cell_type": "code",
   "execution_count": 5,
   "metadata": {},
   "outputs": [
    {
     "name": "stdout",
     "output_type": "stream",
     "text": [
      "Tha name of student ,\n",
      "Ishika with Reg_no=2237.\n",
      "34 in maths,  33 in hindi,87 in python, 83 in c , 67 in physics\n",
      "average of marks is 60.8\n",
      "The total marks of Ishika are 304\n"
     ]
    }
   ],
   "source": [
    "Roll = int(input(\"Enter Class roll no: \"))\n",
    "Roll -= 1\n",
    "name_of_students = [\"Ishika\",\"Vanshika\",\"Tanya\",\"Kratika\"]\n",
    "Reg_no = [2237, 168, 2358, 2134]\n",
    "maths = [34, 45, 54, 56]\n",
    "hindi = [33, 22, 98,92]\n",
    "python = [87 ,99,100,45]\n",
    "c = [83,44,55,98]\n",
    "physics = [67,90,89,80]\n",
    "total = maths[Roll]+hindi[Roll]+python[Roll]+c[Roll]+physics[Roll]\n",
    "print(f\"Tha name of student ,\\n{name_of_students[Roll]} with Reg_no={Reg_no[Roll]}.\\n{maths[Roll]} in maths,  {hindi[Roll]} in hindi,{python[Roll]} in python, {c[Roll]} in c , {physics[Roll]} in physics\")\n",
    "print(f'average of marks is {total/5}')\n",
    "print(f\"The total marks of {name_of_students[Roll]} are {total}\")"
   ]
  },
  {
   "cell_type": "code",
   "execution_count": null,
   "metadata": {},
   "outputs": [],
   "source": [
    "# PEP 8 :\n",
    "# Python Enhancement Proposal\n",
    "# It is guide for python programming ensures code readeability and consistency."
   ]
  },
  {
   "cell_type": "code",
   "execution_count": null,
   "metadata": {},
   "outputs": [],
   "source": [
    "# we don't need to write print with split as it return us the output directly.\n",
    "\n",
    "# str1=[1,2]\n",
    "# str1.split()\n",
    "\n",
    "# but in append , extend we need to print it as it print the output with modification in the input list.\n",
    "\n",
    "#  str1=[1,2]\n",
    "#  str1.append(3)\n",
    "#  print(str1)"
   ]
  },
  {
   "cell_type": "code",
   "execution_count": null,
   "metadata": {},
   "outputs": [],
   "source": [
    "range(start , end , stepsize(optional))\n",
    "\n",
    "#range with one parameter\n",
    "range(5) #start=0 (by default) end=5 stepsize=1\n",
    "\n",
    "#range with two parameters\n",
    "range(1,5) # start=1 , end=5 , stepsize=1\n",
    "\n",
    "#range with three parameters\n",
    "range(1,8,2) # start=1 , end=8 , stepsize=2"
   ]
  },
  {
   "cell_type": "code",
   "execution_count": null,
   "metadata": {},
   "outputs": [],
   "source": [
    "# loops\n",
    "# for loop\n",
    "# syntax\n",
    "#for <local_variable> <membership_operator> range():\n",
    "#block of statement"
   ]
  },
  {
   "cell_type": "code",
   "execution_count": 13,
   "metadata": {},
   "outputs": [
    {
     "name": "stdout",
     "output_type": "stream",
     "text": [
      "*\n",
      "**\n",
      "***\n",
      "****\n",
      "*****\n"
     ]
    }
   ],
   "source": [
    "row=int(input('enter the no'))\n",
    "for i in range(1,row+1):\n",
    "    for j in range(1,i+1):\n",
    "        print('*',end='')\n",
    "    print()"
   ]
  },
  {
   "cell_type": "code",
   "execution_count": 14,
   "metadata": {},
   "outputs": [
    {
     "name": "stdout",
     "output_type": "stream",
     "text": [
      "*****\n",
      "****\n",
      "***\n",
      "**\n",
      "*\n"
     ]
    }
   ],
   "source": [
    "row=int(input('enter the no'))\n",
    "for i in range(1,row+1):\n",
    "    for j in range(row-i+1):\n",
    "        print('*',end='')\n",
    "    print()"
   ]
  },
  {
   "cell_type": "code",
   "execution_count": 1,
   "metadata": {},
   "outputs": [
    {
     "name": "stdout",
     "output_type": "stream",
     "text": [
      "A \n",
      "A B \n",
      "A B C \n",
      "A B C D \n",
      "A B C D E \n"
     ]
    }
   ],
   "source": [
    "row=5\n",
    "for i in range(1,row+1):\n",
    "    ch = 65    \n",
    "    for j in range(1,i+1):\n",
    "        print(chr(ch),end=' ')\n",
    "        ch += 1\n",
    "    print()"
   ]
  },
  {
   "cell_type": "code",
   "execution_count": null,
   "metadata": {},
   "outputs": [
    {
     "name": "stdout",
     "output_type": "stream",
     "text": [
      "1\n",
      "1\n",
      "2\n",
      "3\n"
     ]
    }
   ],
   "source": [
    "tuple1=(1,2,3)\n",
    "print(tuple1[0])\n",
    "for newtuple in tuple1:\n",
    "    print(newtuple)\n",
    "    "
   ]
  },
  {
   "cell_type": "code",
   "execution_count": 9,
   "metadata": {},
   "outputs": [
    {
     "name": "stdout",
     "output_type": "stream",
     "text": [
      "ishika with registration number 34 scored an average of 34.00 across subjects.\n",
      "vanshika with registration number 23 scored an average of 1156.67 across subjects.\n",
      "tanya with registration number 43 scored an average of 33.33 across subjects.\n"
     ]
    }
   ],
   "source": [
    "students = ('ishika', 'vanshika', 'tanya')\n",
    "reg_no = (34, 23, 43)\n",
    "subjects = ('maths', 'HINDI', 'PYTHON')\n",
    "maths = (34, 4, 23)\n",
    "HINDI = (34, 3432, 43)\n",
    "PYTHON = (34, 34, 34)\n",
    "for i in range(len(students)):\n",
    "    total = maths[i] + HINDI[i] + PYTHON[i]\n",
    "    average = total / 3\n",
    "    print(f\"{students[i]} with registration number {reg_no[i]} scored an average of {average:.2f} across subjects.\")"
   ]
  },
  {
   "cell_type": "code",
   "execution_count": null,
   "metadata": {},
   "outputs": [
    {
     "name": "stdout",
     "output_type": "stream",
     "text": [
      "25\n"
     ]
    }
   ],
   "source": [
    "a=10\n",
    "b=15\n",
    "def add():\n",
    "    c=a+b\n",
    "    print(c)\n",
    "add()    "
   ]
  },
  {
   "cell_type": "code",
   "execution_count": 11,
   "metadata": {},
   "outputs": [
    {
     "name": "stdout",
     "output_type": "stream",
     "text": [
      "30\n"
     ]
    }
   ],
   "source": [
    "def add(a,b):\n",
    "    c=a+b\n",
    "    return(c)\n",
    "d=add(10,20)\n",
    "print(d)\n",
    "       "
   ]
  },
  {
   "cell_type": "code",
   "execution_count": 12,
   "metadata": {},
   "outputs": [
    {
     "name": "stdout",
     "output_type": "stream",
     "text": [
      "addition of two numbers 15 and 10 is 25\n",
      "subtraction of two numbers 15 and 10 is 5\n",
      "multiplication of two numbers 15 and 10 is 150\n",
      "division of two numbers 15 and 10 is 1.5\n"
     ]
    }
   ],
   "source": [
    "a=15\n",
    "b=10\n",
    "def addition():\n",
    "    c=a+b\n",
    "    print(f'addition of two numbers {a} and {b} is {c}')\n",
    "addition()\n",
    "def subtraction():\n",
    "    d=a-b\n",
    "    print(f'subtraction of two numbers {a} and {b} is {d}')\n",
    "subtraction()\n",
    "def multiplication():\n",
    "    e=a*b\n",
    "    print(f'multiplication of two numbers {a} and {b} is {e}')\n",
    "multiplication()\n",
    "def division(): \n",
    "    f=a/b\n",
    "    print(f'division of two numbers {a} and {b} is {f}')\n",
    "division()\n",
    "\n"
   ]
  },
  {
   "cell_type": "code",
   "execution_count": 13,
   "metadata": {},
   "outputs": [
    {
     "name": "stdout",
     "output_type": "stream",
     "text": [
      "addition of two numbers 15 and 10 is 25\n",
      "subtraction of two numbers 15 and 10 is 5\n",
      "multiplication of two numbers 15 and 10 is 150\n",
      "division of two numbers 15 and 10 is 1.5\n"
     ]
    }
   ],
   "source": [
    "a=15\n",
    "b=10\n",
    "def calculator():\n",
    "    c=a+b\n",
    "    d=a-b\n",
    "    e=a*b\n",
    "    f=a/b\n",
    "    print(f'addition of two numbers {a} and {b} is {c}')\n",
    "    print(f'subtraction of two numbers {a} and {b} is {d}')\n",
    "    print(f'multiplication of two numbers {a} and {b} is {e}')\n",
    "    print(f'division of two numbers {a} and {b} is {f}')\n",
    "calculator()"
   ]
  },
  {
   "cell_type": "code",
   "execution_count": 16,
   "metadata": {},
   "outputs": [
    {
     "name": "stdout",
     "output_type": "stream",
     "text": [
      "30\n",
      "-10\n",
      "200\n",
      "0.5\n"
     ]
    }
   ],
   "source": [
    "def cal(a,b):\n",
    "    c=a+b\n",
    "    d=a-b\n",
    "    e=a*b\n",
    "    f=a/b\n",
    "    print(c)\n",
    "    print(d)\n",
    "    print(e)\n",
    "    print(f)\n",
    "cal(10,20)    "
   ]
  },
  {
   "cell_type": "code",
   "execution_count": 35,
   "metadata": {},
   "outputs": [
    {
     "name": "stdout",
     "output_type": "stream",
     "text": [
      "Ishika \n",
      "2415800038\n",
      "has scored \n",
      "15 in maths \n",
      "14 in physics \n",
      "15 in python \n",
      "14 in english \n",
      "14 in design thinking \n",
      "average marks 24.0 \n",
      "total marks 72 \n",
      "\n",
      "Harshita \n",
      "2415800037\n",
      "has scored \n",
      "12 in maths \n",
      "14 in physics \n",
      "15 in python \n",
      "12 in english \n",
      "13 in design thinking \n",
      "average marks 22.0 \n",
      "total marks 66 \n",
      "\n"
     ]
    }
   ],
   "source": [
    "def add(student_name, reg , maths, physics, python,english , design):\n",
    "    total=(maths + physics + python + english + design)\n",
    "    avg=(maths + physics + python + english + design)/3\n",
    "    print(f'{student_name} \\n{reg}\\nhas scored \\n{maths} in maths \\n{physics} in physics \\n{python} in python \\n{english} in english \\n{design} in design thinking \\naverage marks {avg} \\ntotal marks {total} \\n')\n",
    "add('Ishika',2415800038,15,14,15,14,14)\n",
    "add('Harshita',2415800037,12,14,15,12,13)    "
   ]
  },
  {
   "cell_type": "code",
   "execution_count": 36,
   "metadata": {},
   "outputs": [],
   "source": [
    "# integer(int) = 4 bytes\n",
    "# floating-point(float) = 4 bytes\n",
    "# string(str) = variable, depend on length\n",
    "# Boolean(bool) = 1 byte"
   ]
  },
  {
   "cell_type": "code",
   "execution_count": null,
   "metadata": {},
   "outputs": [
    {
     "name": "stdout",
     "output_type": "stream",
     "text": [
      "akihsi\n"
     ]
    }
   ],
   "source": [
    "# Ques1. WAP that reverses a given string.\n",
    "str1=input()\n",
    "str2=str1[::-1]\n",
    "print(str2)"
   ]
  },
  {
   "cell_type": "code",
   "execution_count": 54,
   "metadata": {},
   "outputs": [
    {
     "name": "stdout",
     "output_type": "stream",
     "text": [
      "6\n"
     ]
    }
   ],
   "source": [
    "# Ques2. Create a function that counts the number of vowels in a string.\n",
    "str1='Today is Tuesday'\n",
    "a=str1.count('a')\n",
    "b=str1.count('e')\n",
    "c=str1.count('i')\n",
    "d=str1.count('o')\n",
    "e=str1.count('u')\n",
    "sum=a+b+c+d+e \n",
    "print(sum)\n",
    "\n",
    "  \n",
    "   "
   ]
  },
  {
   "cell_type": "code",
   "execution_count": 14,
   "metadata": {},
   "outputs": [
    {
     "name": "stdout",
     "output_type": "stream",
     "text": [
      "palindrome\n"
     ]
    }
   ],
   "source": [
    "# Ques3. Implement a program that checks if a string is palindrome.\n",
    "str1='isisi'\n",
    "str2=str1[::-1]\n",
    "if str1==str2:\n",
    "    print(\"palindrome\")\n",
    "else :\n",
    "    print('not palindrome')    "
   ]
  },
  {
   "cell_type": "code",
   "execution_count": 16,
   "metadata": {},
   "outputs": [
    {
     "name": "stdout",
     "output_type": "stream",
     "text": [
      "My Name Is Ishika\n"
     ]
    }
   ],
   "source": [
    "# Ques4. Write a function that capitalizes the first letter of each word in a sentence.\n",
    "str1=\"my NaMe iS ishikA\"\n",
    "str2=str1.title()\n",
    "print(str2)"
   ]
  },
  {
   "cell_type": "code",
   "execution_count": 23,
   "metadata": {},
   "outputs": [
    {
     "name": "stdout",
     "output_type": "stream",
     "text": [
      "she is a child she wants to play\n"
     ]
    }
   ],
   "source": [
    "# Ques5. Create a program that replaces all occurences of a specific word in a string with another word.\n",
    "str1='marie is a child marie wants to play'\n",
    "old='marie'\n",
    "new='she'\n",
    "str2=str1.replace(old,new)\n",
    "print(str2)"
   ]
  },
  {
   "cell_type": "code",
   "execution_count": 32,
   "metadata": {},
   "outputs": [
    {
     "name": "stdout",
     "output_type": "stream",
     "text": [
      "10\n"
     ]
    }
   ],
   "source": [
    "# Ques6. Write a function that determines the length of longest word in a sentence.\n",
    "str='she lives in california'\n",
    "result=max(len(word) for word in str.split())\n",
    "print(result)"
   ]
  },
  {
   "cell_type": "code",
   "execution_count": null,
   "metadata": {},
   "outputs": [
    {
     "name": "stdout",
     "output_type": "stream",
     "text": [
      "i: 3\n",
      "a: 2\n",
      "m: 1\n",
      "s: 1\n",
      "h: 1\n",
      "k: 1\n"
     ]
    }
   ],
   "source": [
    "# Ques7. Implement a program that counts the frequency of each character in a string.\n",
    "str1='i am ishika'\n",
    "ch=''\n",
    "for i in str1:\n",
    "    if i not in ch:\n",
    "        "
   ]
  },
  {
   "cell_type": "code",
   "execution_count": 45,
   "metadata": {},
   "outputs": [
    {
     "name": "stdout",
     "output_type": "stream",
     "text": [
      "anagram\n"
     ]
    }
   ],
   "source": [
    "# Ques8. Create a function that checks if two strings are anagrams.\n",
    "a1='listen'\n",
    "a2='silent'\n",
    "if sorted(a1) == sorted(a2):\n",
    "   print('anagram')\n",
    "else:   \n",
    "   print('not anagram')   \n"
   ]
  },
  {
   "cell_type": "code",
   "execution_count": 46,
   "metadata": {},
   "outputs": [
    {
     "name": "stdout",
     "output_type": "stream",
     "text": [
      "itisabeautifulday\n"
     ]
    }
   ],
   "source": [
    "# Ques9. WAP that removes all the whitespaces.\n",
    "str1='it is a beautiful day'\n",
    "str2=str1.replace(' ','')\n",
    "print(str2)\n",
    " "
   ]
  },
  {
   "cell_type": "code",
   "execution_count": 56,
   "metadata": {},
   "outputs": [
    {
     "data": {
      "text/plain": [
       "'Good Morning'"
      ]
     },
     "execution_count": 56,
     "metadata": {},
     "output_type": "execute_result"
    }
   ],
   "source": [
    "# Ques10. Implement a function that converts a string to title case.\n",
    "def tittle(s):\n",
    "    result = s.title()\n",
    "    return result\n",
    "tittle('good morning')    "
   ]
  },
  {
   "cell_type": "code",
   "execution_count": 4,
   "metadata": {},
   "outputs": [
    {
     "name": "stdout",
     "output_type": "stream",
     "text": [
      "some 'boring' string\n",
      "these are my friend's cats\n"
     ]
    }
   ],
   "source": [
    "\n",
    "#print('that's cool')\n",
    "\n",
    "print(\"some 'boring' string\")\n",
    "\n",
    "#print('letter \\'q\\' is my favourite\")\n",
    "\n",
    "print(\"these are my friend's cats\")\n",
    "\n",
    "#print(\"\\\"canoodle\" is a real word!\")"
   ]
  }
 ],
 "metadata": {
  "kernelspec": {
   "display_name": "Python 3",
   "language": "python",
   "name": "python3"
  },
  "language_info": {
   "codemirror_mode": {
    "name": "ipython",
    "version": 3
   },
   "file_extension": ".py",
   "mimetype": "text/x-python",
   "name": "python",
   "nbconvert_exporter": "python",
   "pygments_lexer": "ipython3",
   "version": "3.12.6"
  }
 },
 "nbformat": 4,
 "nbformat_minor": 2
}
