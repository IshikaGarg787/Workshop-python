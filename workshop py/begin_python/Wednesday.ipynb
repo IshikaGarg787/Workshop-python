{
 "cells": [
  {
   "cell_type": "code",
   "execution_count": 6,
   "metadata": {},
   "outputs": [
    {
     "name": "stdout",
     "output_type": "stream",
     "text": [
      "Type add show , edit , complete or exit: add\n",
      "Enter the to-do: cream\n"
     ]
    },
    {
     "ename": "TypeError",
     "evalue": "list.append() takes exactly one argument (0 given)",
     "output_type": "error",
     "traceback": [
      "\u001b[1;31m---------------------------------------------------------------------------\u001b[0m",
      "\u001b[1;31mTypeError\u001b[0m                                 Traceback (most recent call last)",
      "Cell \u001b[1;32mIn[6], line 6\u001b[0m\n\u001b[0;32m      4\u001b[0m \u001b[38;5;28;01mif\u001b[39;00m a\u001b[38;5;241m==\u001b[39m\u001b[38;5;124m'\u001b[39m\u001b[38;5;124madd\u001b[39m\u001b[38;5;124m'\u001b[39m:\n\u001b[0;32m      5\u001b[0m    \u001b[38;5;28mprint\u001b[39m(\u001b[38;5;124m'\u001b[39m\u001b[38;5;124mEnter the to-do:\u001b[39m\u001b[38;5;124m'\u001b[39m,\u001b[38;5;28minput\u001b[39m())\n\u001b[1;32m----> 6\u001b[0m    \u001b[43mlst\u001b[49m\u001b[38;5;241;43m.\u001b[39;49m\u001b[43mappend\u001b[49m\u001b[43m(\u001b[49m\u001b[43m)\u001b[49m   \n\u001b[0;32m      7\u001b[0m \u001b[38;5;28mprint\u001b[39m(\u001b[38;5;124m'\u001b[39m\u001b[38;5;124mType add show , edit , complete or exit:\u001b[39m\u001b[38;5;124m'\u001b[39m,a)\n\u001b[0;32m      8\u001b[0m \u001b[38;5;28;01mif\u001b[39;00m a\u001b[38;5;241m==\u001b[39m\u001b[38;5;124m'\u001b[39m\u001b[38;5;124mshow\u001b[39m\u001b[38;5;124m'\u001b[39m:\n",
      "\u001b[1;31mTypeError\u001b[0m: list.append() takes exactly one argument (0 given)"
     ]
    }
   ],
   "source": [
    "lst=[]\n",
    "a=input()\n",
    "print('Type add show , edit , complete or exit:',a)\n",
    "if a=='add':\n",
    "   print('Enter the to-do:',input())\n",
    "   lst.append()   \n",
    "print('Type add show , edit , complete or exit:',a)\n",
    "if a=='show':\n",
    "   count=1\n",
    "   for i in lst:\n",
    "       count +=1\n",
    "       print(f'{count}.{lst}')"
   ]
  },
  {
   "cell_type": "code",
   "execution_count": 11,
   "metadata": {},
   "outputs": [
    {
     "name": "stdout",
     "output_type": "stream",
     "text": [
      "1. ice\n",
      "2. water\n",
      "3. shake\n",
      "1. ice\n",
      "2. drink\n",
      "3. shake\n",
      "Byee!!\n"
     ]
    }
   ],
   "source": [
    "lst =[]\n",
    "while True:\n",
    "    element = input('Type add , show , edit , complete or exit : ')\n",
    "    if element == 'add' :\n",
    "        n = input('Enter the to-do : ')\n",
    "        lst.append(n)\n",
    "    if element =='show':\n",
    "        count = 1\n",
    "        for element in lst:\n",
    "            print(f\"{count}. {element}\")\n",
    "            count += 1\n",
    "    if element == 'complete':\n",
    "        n = int(input('Enter the completed task : '))\n",
    "        n -= 1\n",
    "        lst.pop(n)\n",
    "    if element=='edit':\n",
    "        n=int(input('Enter the number you want to edit:'))\n",
    "        n-=1\n",
    "        new=input('Enter the new to-do:')\n",
    "        lst[n]=new\n",
    "    if element == 'exit':\n",
    "        lst.clear()\n",
    "        print('Byee!!')\n",
    "        break"
   ]
  },
  {
   "cell_type": "code",
   "execution_count": 3,
   "metadata": {},
   "outputs": [
    {
     "name": "stdout",
     "output_type": "stream",
     "text": [
      "Bye!!\n"
     ]
    }
   ],
   "source": [
    "todos=[]\n",
    "while True:\n",
    "    user_input=input('Type add, show, edit , complete or exit').lower()\n",
    "    match user_input:\n",
    "        case 'add':\n",
    "            todo=input('Enter the to-do:')+'\\n'\n",
    "            todos.append(todo)\n",
    "        case 'show'|'display':\n",
    "            if todos==[]:\n",
    "                print('Enter something to the list')\n",
    "            else:    \n",
    "                count = 1\n",
    "                for user_input in todos:\n",
    "                    print(f\"{count}. {user_input}\")\n",
    "                    count += 1\n",
    "            #for index,item in enumerate{}:\n",
    "                #print(f'{index+1}-{item}')\n",
    "        case 'edit':\n",
    "          if todos==[]:\n",
    "             print('Enter something to the list')\n",
    "          else:\n",
    "            number=int(input('Enter the number you want to edit:')) \n",
    "            number -= 1\n",
    "            new_to_do=input('Enter the new to-do')\n",
    "            todos[number]=new_to_do\n",
    "        case 'complete':\n",
    "            number=int(input('Enter the number of to-do completed:'))\n",
    "            number -= 1\n",
    "            todos.pop(number)\n",
    "        case 'exit':\n",
    "            break\n",
    "        case 'Whatever':\n",
    "            print('invalid input')\n",
    "print('Bye!!')                \n",
    "\n",
    "\n",
    "            "
   ]
  },
  {
   "cell_type": "code",
   "execution_count": null,
   "metadata": {},
   "outputs": [],
   "source": [
    "lst =[]\n",
    "while True:\n",
    "    element = input('Type add , show , edit , complete or exit : ')\n",
    "    match element:\n",
    "        case 'add' :\n",
    "            n = input('Enter the element in to-do : ')\n",
    "            lst.append(n)\n",
    "        case'show':\n",
    "            if lst == []:\n",
    "                print('Enter something to the list.')\n",
    "            else:\n",
    "                count = 1\n",
    "                for element in lst:\n",
    "                    print(f\"{count}. {element}\")\n",
    "                    count += 1\n",
    "        case 'edit':\n",
    "            if lst == []:\n",
    "                print('Enter something in the list.')\n",
    "            else:\n",
    "                n = int(input('Enter the element number you want to edit : '))\n",
    "                n -= 1\n",
    "                lst.pop(n)\n",
    "                change = input('Enter you want to : ')\n",
    "                lst.insert(n,change)\n",
    "        case 'complete':\n",
    "            n = int(input('Enter the completed task number : '))\n",
    "            n -= 1\n",
    "            lst.pop(n)\n",
    "        case 'exit':\n",
    "            lst.clear()\n",
    "            print('Byee!!')\n",
    "            break"
   ]
  },
  {
   "cell_type": "code",
   "execution_count": 27,
   "metadata": {},
   "outputs": [
    {
     "name": "stdout",
     "output_type": "stream",
     "text": [
      "2\n",
      "30\n"
     ]
    }
   ],
   "source": [
    "def values():\n",
    "    a=2\n",
    "    return a\n",
    "result=values()\n",
    "print(result)\n",
    "\n",
    "def values(a,b):\n",
    "    c=a+b\n",
    "    return c\n",
    "result=values(10,20)\n",
    "print(result)\n"
   ]
  },
  {
   "cell_type": "code",
   "execution_count": 28,
   "metadata": {},
   "outputs": [
    {
     "name": "stdout",
     "output_type": "stream",
     "text": [
      "[2, 3, 4, 5, 6, 7, 8, 9, 10, 11]\n"
     ]
    }
   ],
   "source": [
    "def values(a):\n",
    "    return(a+2)\n",
    "values=[values(i)for i in range(0,10)]\n",
    "print(values)"
   ]
  },
  {
   "cell_type": "code",
   "execution_count": 52,
   "metadata": {},
   "outputs": [
    {
     "name": "stdout",
     "output_type": "stream",
     "text": [
      "1 2 3 4 5 \n",
      "2 4 6 8 10 "
     ]
    }
   ],
   "source": [
    "for i in range(1,2):\n",
    "    for j in range(1,6):\n",
    "        print(j, end=' ')\n",
    "    print()\n",
    "    for j in range(1,6):\n",
    "        print(j*2,end=' ')\n",
    "     "
   ]
  },
  {
   "cell_type": "code",
   "execution_count": 50,
   "metadata": {},
   "outputs": [
    {
     "name": "stdout",
     "output_type": "stream",
     "text": [
      "1 2\n",
      "2 4\n",
      "3 6\n",
      "4 8\n",
      "5 10\n"
     ]
    }
   ],
   "source": [
    "for i in range(1,6):\n",
    "    for j in range(i):\n",
    "        value=i*2\n",
    "    print(i,value)"
   ]
  },
  {
   "cell_type": "code",
   "execution_count": 62,
   "metadata": {},
   "outputs": [
    {
     "name": "stdout",
     "output_type": "stream",
     "text": [
      "[(1, 2), (3, 4), (5, 6)]\n",
      "1 2 3 4 5 6 "
     ]
    }
   ],
   "source": [
    "dmatrix=[(1,2),(3,4),(5,6)]\n",
    "print(dmatrix)\n",
    "for i in dmatrix:\n",
    "        for j in i:\n",
    "           print(j, end=' ')"
   ]
  },
  {
   "cell_type": "code",
   "execution_count": 60,
   "metadata": {},
   "outputs": [
    {
     "name": "stdout",
     "output_type": "stream",
     "text": [
      "[1, 2, 3, 4, 5, 6]\n"
     ]
    }
   ],
   "source": [
    "flat_list=[j for i in dmatrix for j in i]\n",
    "print(flat_list)"
   ]
  },
  {
   "cell_type": "code",
   "execution_count": 69,
   "metadata": {},
   "outputs": [
    {
     "name": "stdout",
     "output_type": "stream",
     "text": [
      "['nuM2\\t\\n', '        nUm1\\n', '\\tNum3\\n']\n",
      "cleaned_lines\n",
      "['num2', 'num1', 'num3']\n"
     ]
    }
   ],
   "source": [
    "lst=['nuM2\\t\\n','        nUm1\\n','\\tNum3\\n']\n",
    "print(lst)\n",
    "print('cleaned_lines')\n",
    "cleaned_lines=[cleanvalues.strip().lower() # strip() used for cleaning data's from database.\n",
    "               for cleanvalues in lst]\n",
    "print(cleaned_lines)"
   ]
  },
  {
   "cell_type": "code",
   "execution_count": null,
   "metadata": {},
   "outputs": [
    {
     "name": "stdout",
     "output_type": "stream",
     "text": [
      "[(3, 'samsung'), (4, 'apple'), (5, 'motorola')]\n"
     ]
    }
   ],
   "source": [
    "list1=['samsung','apple','motorola']\n",
    "enlist=[(newone,mobile)\n",
    "        for newone,mobile in enumerate(list1, start=3)]\n",
    "print(enlist)\n",
    "# enumerate : particularly used when we want the element and index at the same time."
   ]
  },
  {
   "cell_type": "code",
   "execution_count": 2,
   "metadata": {},
   "outputs": [
    {
     "name": "stdout",
     "output_type": "stream",
     "text": [
      "Welcome to Canara Bank! Ishika\n",
      "Choose Language:\n",
      "1. English\n",
      "2. Hindi\n",
      "English\n",
      "Choose Location:\n",
      "1. Domestic\n",
      "2. International\n",
      "International\n"
     ]
    },
    {
     "ename": "ValueError",
     "evalue": "invalid literal for int() with base 10: 'exit'",
     "output_type": "error",
     "traceback": [
      "\u001b[1;31m---------------------------------------------------------------------------\u001b[0m",
      "\u001b[1;31mValueError\u001b[0m                                Traceback (most recent call last)",
      "Cell \u001b[1;32mIn[2], line 73\u001b[0m\n\u001b[0;32m     71\u001b[0m lang()\n\u001b[0;32m     72\u001b[0m loc()\n\u001b[1;32m---> 73\u001b[0m \u001b[43mpin_no\u001b[49m\u001b[43m(\u001b[49m\u001b[43m)\u001b[49m\n\u001b[0;32m     74\u001b[0m choose()\n\u001b[0;32m     75\u001b[0m \u001b[38;5;28mprint\u001b[39m(\u001b[38;5;124m'\u001b[39m\u001b[38;5;124mThankyou!\u001b[39m\u001b[38;5;124m'\u001b[39m)\n",
      "Cell \u001b[1;32mIn[2], line 36\u001b[0m, in \u001b[0;36mpin_no\u001b[1;34m()\u001b[0m\n\u001b[0;32m     35\u001b[0m \u001b[38;5;28;01mdef\u001b[39;00m \u001b[38;5;21mpin_no\u001b[39m():\n\u001b[1;32m---> 36\u001b[0m     new_pin\u001b[38;5;241m=\u001b[39m\u001b[38;5;28;43mint\u001b[39;49m\u001b[43m(\u001b[49m\u001b[38;5;28;43minput\u001b[39;49m\u001b[43m(\u001b[49m\u001b[38;5;124;43m'\u001b[39;49m\u001b[38;5;124;43mEnter PIN:\u001b[39;49m\u001b[38;5;124;43m'\u001b[39;49m\u001b[43m)\u001b[49m\u001b[43m)\u001b[49m\n\u001b[0;32m     37\u001b[0m     \u001b[38;5;28;01mif\u001b[39;00m new_pin\u001b[38;5;241m==\u001b[39mpin:\n\u001b[0;32m     38\u001b[0m         \u001b[38;5;28mprint\u001b[39m(\u001b[38;5;124m'\u001b[39m\u001b[38;5;124mCorrect pin , take access\u001b[39m\u001b[38;5;124m'\u001b[39m)\n",
      "\u001b[1;31mValueError\u001b[0m: invalid literal for int() with base 10: 'exit'"
     ]
    }
   ],
   "source": [
    "#ishika=25,000\n",
    "#Functions|arithmetic operations|listwelcome\n",
    "#1. language\n",
    "#2. Domestic|international\n",
    "#3. pin number\n",
    "#4. deposit|withdraw|check_balance|pin_change|fast_withdrawal\n",
    "#5. Thankyou\n",
    "\n",
    "balance=50000\n",
    "pin='2345'\n",
    "name='Ishika'\n",
    "\n",
    "print('Welcome to Canara Bank!',name)\n",
    "\n",
    "def lang():\n",
    "    print('Choose Language:')\n",
    "    print('1. English')\n",
    "    print('2. Hindi')\n",
    "    language=int(input('Enter 1 or 2:'))\n",
    "    if language==1:\n",
    "       print('English')\n",
    "    elif language==2:\n",
    "       print('Hindi')\n",
    "\n",
    "def loc():\n",
    "    print('Choose Location:')\n",
    "    print('1. Domestic')\n",
    "    print('2. International')\n",
    "    location=int(input('Enter 1 or 2:'))  \n",
    "    if location==1:\n",
    "        print('Domestic')\n",
    "    elif location==2:\n",
    "        print('International')\n",
    "\n",
    "def pin_no():\n",
    "    new_pin=int(input('Enter PIN:'))\n",
    "    if new_pin==pin:\n",
    "        print('Correct pin , take access')\n",
    "        return True\n",
    "    return False\n",
    "\n",
    "def choose():\n",
    "    print('Choose:')\n",
    "    print('1. deposit')\n",
    "    print('2. withdraw')\n",
    "    print('3. check')\n",
    "    print('4. exit')\n",
    "    work=input('Enter 1, 2, 3, 4:')\n",
    "    if work=='deposit':\n",
    "       amt=int(input('Enter the amount to be deposited :'))\n",
    "       balance += amt\n",
    "       print(f'{amt} is deposited , balance now : {balance}')\n",
    "\n",
    "    elif work== 'withdraw':\n",
    "       amt=int(input('Enter the to withdraw :'))\n",
    "       if amt<=balance:\n",
    "          balance -=amt\n",
    "          print(f'{amt} is withdrawn , balance now :{balance}')\n",
    "       else:\n",
    "          print('Insufficient access') \n",
    "\n",
    "    elif work == 'check':\n",
    "        print(f'Your balance :{balance}')\n",
    "\n",
    "    elif work == 'exit':\n",
    "        print('Bye!!')\n",
    "\n",
    "    else: \n",
    "        print('Invalid Input')  \n",
    "\n",
    "lang()\n",
    "loc()\n",
    "pin_no()\n",
    "choose()\n",
    "print('Thankyou!')\n",
    "\n",
    "\n",
    "\n",
    "\n",
    "\n",
    "\n"
   ]
  }
 ],
 "metadata": {
  "kernelspec": {
   "display_name": "Python 3",
   "language": "python",
   "name": "python3"
  },
  "language_info": {
   "codemirror_mode": {
    "name": "ipython",
    "version": 3
   },
   "file_extension": ".py",
   "mimetype": "text/x-python",
   "name": "python",
   "nbconvert_exporter": "python",
   "pygments_lexer": "ipython3",
   "version": "3.12.6"
  }
 },
 "nbformat": 4,
 "nbformat_minor": 2
}
